{
  "nbformat": 4,
  "nbformat_minor": 0,
  "metadata": {
    "kernelspec": {
      "display_name": "Python 3",
      "language": "python",
      "name": "python3"
    },
    "language_info": {
      "codemirror_mode": {
        "name": "ipython",
        "version": 3
      },
      "file_extension": ".py",
      "mimetype": "text/x-python",
      "name": "python",
      "nbconvert_exporter": "python",
      "pygments_lexer": "ipython3",
      "version": "3.6.9"
    },
    "colab": {
      "name": "Copy of Augmentation.ipynb",
      "provenance": [],
      "collapsed_sections": [],
      "toc_visible": true
    }
  },
  "cells": [
    {
      "cell_type": "markdown",
      "metadata": {
        "id": "7SFchUJmo-Nt",
        "colab_type": "text"
      },
      "source": [
        "# Import Libraries"
      ]
    },
    {
      "cell_type": "code",
      "metadata": {
        "id": "SsWz5vl0onC0",
        "colab_type": "code",
        "outputId": "9fb4f502-2fb3-4311-8879-2247380551b5",
        "colab": {
          "base_uri": "https://localhost:8080/",
          "height": 80
        }
      },
      "source": [
        "from keras.preprocessing.image import ImageDataGenerator #Augmentor\n",
        "import os # OS Library\n",
        "import numpy as np\n",
        "from imageio import imread # Read images\n",
        "import shutil # Move images"
      ],
      "execution_count": 1,
      "outputs": [
        {
          "output_type": "stream",
          "text": [
            "Using TensorFlow backend.\n"
          ],
          "name": "stderr"
        },
        {
          "output_type": "display_data",
          "data": {
            "text/html": [
              "<p style=\"color: red;\">\n",
              "The default version of TensorFlow in Colab will soon switch to TensorFlow 2.x.<br>\n",
              "We recommend you <a href=\"https://www.tensorflow.org/guide/migrate\" target=\"_blank\">upgrade</a> now \n",
              "or ensure your notebook will continue to use TensorFlow 1.x via the <code>%tensorflow_version 1.x</code> magic:\n",
              "<a href=\"https://colab.research.google.com/notebooks/tensorflow_version.ipynb\" target=\"_blank\">more info</a>.</p>\n"
            ],
            "text/plain": [
              "<IPython.core.display.HTML object>"
            ]
          },
          "metadata": {
            "tags": []
          }
        }
      ]
    },
    {
      "cell_type": "markdown",
      "metadata": {
        "id": "q7pEV6cQpEBW",
        "colab_type": "text"
      },
      "source": [
        "# Mount Drive"
      ]
    },
    {
      "cell_type": "code",
      "metadata": {
        "id": "ygpLazhpo6Kq",
        "colab_type": "code",
        "outputId": "1e2c0eae-86ea-43fe-c2bc-e79c14decc4c",
        "colab": {
          "base_uri": "https://localhost:8080/",
          "height": 122
        }
      },
      "source": [
        "from google.colab import drive\n",
        "drive.mount('/content/drive')"
      ],
      "execution_count": 2,
      "outputs": [
        {
          "output_type": "stream",
          "text": [
            "Go to this URL in a browser: https://accounts.google.com/o/oauth2/auth?client_id=947318989803-6bn6qk8qdgf4n4g3pfee6491hc0brc4i.apps.googleusercontent.com&redirect_uri=urn%3aietf%3awg%3aoauth%3a2.0%3aoob&response_type=code&scope=email%20https%3a%2f%2fwww.googleapis.com%2fauth%2fdocs.test%20https%3a%2f%2fwww.googleapis.com%2fauth%2fdrive%20https%3a%2f%2fwww.googleapis.com%2fauth%2fdrive.photos.readonly%20https%3a%2f%2fwww.googleapis.com%2fauth%2fpeopleapi.readonly\n",
            "\n",
            "Enter your authorization code:\n",
            "··········\n",
            "Mounted at /content/drive\n"
          ],
          "name": "stdout"
        }
      ]
    },
    {
      "cell_type": "markdown",
      "metadata": {
        "id": "d3iZtbxxpSsW",
        "colab_type": "text"
      },
      "source": [
        "# Image Augmentation"
      ]
    },
    {
      "cell_type": "code",
      "metadata": {
        "id": "DTpgj922Xuci",
        "colab_type": "code",
        "outputId": "ce155cd4-4275-4074-94e6-227ef7eabc48",
        "colab": {
          "base_uri": "https://localhost:8080/",
          "height": 34
        }
      },
      "source": [
        "# Maintain log file\n",
        "f = open(\"augmentationLog.txt\", \"w\")\n",
        "f.write('Data Augmentation log!')"
      ],
      "execution_count": 3,
      "outputs": [
        {
          "output_type": "execute_result",
          "data": {
            "text/plain": [
              "22"
            ]
          },
          "metadata": {
            "tags": []
          },
          "execution_count": 3
        }
      ]
    },
    {
      "cell_type": "code",
      "metadata": {
        "id": "5UAZM3KAonC7",
        "colab_type": "code",
        "colab": {}
      },
      "source": [
        "# Augmentor\n",
        "gen = ImageDataGenerator(rotation_range=10, width_shift_range=0.1, \n",
        "                         height_shift_range=0.1,\n",
        "                        horizontal_flip=True)"
      ],
      "execution_count": 0,
      "outputs": []
    },
    {
      "cell_type": "code",
      "metadata": {
        "id": "oPdpCWGdonC-",
        "colab_type": "code",
        "colab": {}
      },
      "source": [
        "# Get Source Directory\n",
        "src_dir = os.getcwd()"
      ],
      "execution_count": 0,
      "outputs": []
    },
    {
      "cell_type": "code",
      "metadata": {
        "id": "uIse2nJoo4Gn",
        "colab_type": "code",
        "outputId": "a2d3b125-9e04-411c-a07d-231159cb9577",
        "colab": {
          "base_uri": "https://localhost:8080/",
          "height": 1000
        }
      },
      "source": [
        "# Copy data to working directory\n",
        "!cp -rv drive/My\\ Drive/Glaucoma2/data ."
      ],
      "execution_count": 6,
      "outputs": [
        {
          "output_type": "stream",
          "text": [
            "'drive/My Drive/Glaucoma2/data' -> './data'\n",
            "'drive/My Drive/Glaucoma2/data/valid' -> './data/valid'\n",
            "'drive/My Drive/Glaucoma2/data/valid/Normal' -> './data/valid/Normal'\n",
            "'drive/My Drive/Glaucoma2/data/valid/Normal/16.png' -> './data/valid/Normal/16.png'\n",
            "'drive/My Drive/Glaucoma2/data/valid/Normal/11.png' -> './data/valid/Normal/11.png'\n",
            "'drive/My Drive/Glaucoma2/data/valid/Normal/12.png' -> './data/valid/Normal/12.png'\n",
            "'drive/My Drive/Glaucoma2/data/valid/Normal/19.png' -> './data/valid/Normal/19.png'\n",
            "'drive/My Drive/Glaucoma2/data/valid/Normal/9.png' -> './data/valid/Normal/9.png'\n",
            "'drive/My Drive/Glaucoma2/data/valid/Normal/22.png' -> './data/valid/Normal/22.png'\n",
            "'drive/My Drive/Glaucoma2/data/valid/Normal/10.png' -> './data/valid/Normal/10.png'\n",
            "'drive/My Drive/Glaucoma2/data/valid/Normal/18.png' -> './data/valid/Normal/18.png'\n",
            "'drive/My Drive/Glaucoma2/data/valid/Normal/20.png' -> './data/valid/Normal/20.png'\n",
            "'drive/My Drive/Glaucoma2/data/valid/Normal/15.png' -> './data/valid/Normal/15.png'\n",
            "'drive/My Drive/Glaucoma2/data/valid/Normal/4.png' -> './data/valid/Normal/4.png'\n",
            "'drive/My Drive/Glaucoma2/data/valid/Normal/1.png' -> './data/valid/Normal/1.png'\n",
            "'drive/My Drive/Glaucoma2/data/valid/Normal/17.png' -> './data/valid/Normal/17.png'\n",
            "'drive/My Drive/Glaucoma2/data/valid/Normal/7.png' -> './data/valid/Normal/7.png'\n",
            "'drive/My Drive/Glaucoma2/data/valid/Normal/14.png' -> './data/valid/Normal/14.png'\n",
            "'drive/My Drive/Glaucoma2/data/valid/Normal/21.png' -> './data/valid/Normal/21.png'\n",
            "'drive/My Drive/Glaucoma2/data/valid/Normal/23.png' -> './data/valid/Normal/23.png'\n",
            "'drive/My Drive/Glaucoma2/data/valid/Normal/5.png' -> './data/valid/Normal/5.png'\n",
            "'drive/My Drive/Glaucoma2/data/valid/Normal/8.png' -> './data/valid/Normal/8.png'\n",
            "'drive/My Drive/Glaucoma2/data/valid/Normal/3.png' -> './data/valid/Normal/3.png'\n",
            "'drive/My Drive/Glaucoma2/data/valid/Normal/6.png' -> './data/valid/Normal/6.png'\n",
            "'drive/My Drive/Glaucoma2/data/valid/Normal/13.png' -> './data/valid/Normal/13.png'\n",
            "'drive/My Drive/Glaucoma2/data/valid/Normal/2.png' -> './data/valid/Normal/2.png'\n",
            "'drive/My Drive/Glaucoma2/data/valid/Glaucoma' -> './data/valid/Glaucoma'\n",
            "'drive/My Drive/Glaucoma2/data/valid/Glaucoma/11.png' -> './data/valid/Glaucoma/11.png'\n",
            "'drive/My Drive/Glaucoma2/data/valid/Glaucoma/15.png' -> './data/valid/Glaucoma/15.png'\n",
            "'drive/My Drive/Glaucoma2/data/valid/Glaucoma/19.png' -> './data/valid/Glaucoma/19.png'\n",
            "'drive/My Drive/Glaucoma2/data/valid/Glaucoma/12.png' -> './data/valid/Glaucoma/12.png'\n",
            "'drive/My Drive/Glaucoma2/data/valid/Glaucoma/16.png' -> './data/valid/Glaucoma/16.png'\n",
            "'drive/My Drive/Glaucoma2/data/valid/Glaucoma/22.png' -> './data/valid/Glaucoma/22.png'\n",
            "'drive/My Drive/Glaucoma2/data/valid/Glaucoma/20.png' -> './data/valid/Glaucoma/20.png'\n",
            "'drive/My Drive/Glaucoma2/data/valid/Glaucoma/10.png' -> './data/valid/Glaucoma/10.png'\n",
            "'drive/My Drive/Glaucoma2/data/valid/Glaucoma/18.png' -> './data/valid/Glaucoma/18.png'\n",
            "'drive/My Drive/Glaucoma2/data/valid/Glaucoma/9.png' -> './data/valid/Glaucoma/9.png'\n",
            "'drive/My Drive/Glaucoma2/data/valid/Glaucoma/4.png' -> './data/valid/Glaucoma/4.png'\n",
            "'drive/My Drive/Glaucoma2/data/valid/Glaucoma/1.png' -> './data/valid/Glaucoma/1.png'\n",
            "'drive/My Drive/Glaucoma2/data/valid/Glaucoma/17.png' -> './data/valid/Glaucoma/17.png'\n",
            "'drive/My Drive/Glaucoma2/data/valid/Glaucoma/23.png' -> './data/valid/Glaucoma/23.png'\n",
            "'drive/My Drive/Glaucoma2/data/valid/Glaucoma/7.png' -> './data/valid/Glaucoma/7.png'\n",
            "'drive/My Drive/Glaucoma2/data/valid/Glaucoma/3.png' -> './data/valid/Glaucoma/3.png'\n",
            "'drive/My Drive/Glaucoma2/data/valid/Glaucoma/21.png' -> './data/valid/Glaucoma/21.png'\n",
            "'drive/My Drive/Glaucoma2/data/valid/Glaucoma/5.png' -> './data/valid/Glaucoma/5.png'\n",
            "'drive/My Drive/Glaucoma2/data/valid/Glaucoma/14.png' -> './data/valid/Glaucoma/14.png'\n",
            "'drive/My Drive/Glaucoma2/data/valid/Glaucoma/8.png' -> './data/valid/Glaucoma/8.png'\n",
            "'drive/My Drive/Glaucoma2/data/valid/Glaucoma/6.png' -> './data/valid/Glaucoma/6.png'\n",
            "'drive/My Drive/Glaucoma2/data/valid/Glaucoma/13.png' -> './data/valid/Glaucoma/13.png'\n",
            "'drive/My Drive/Glaucoma2/data/valid/Glaucoma/2.png' -> './data/valid/Glaucoma/2.png'\n",
            "'drive/My Drive/Glaucoma2/data/train' -> './data/train'\n",
            "'drive/My Drive/Glaucoma2/data/train/Glaucoma' -> './data/train/Glaucoma'\n",
            "'drive/My Drive/Glaucoma2/data/train/Glaucoma/22.png' -> './data/train/Glaucoma/22.png'\n",
            "'drive/My Drive/Glaucoma2/data/train/Glaucoma/67.png' -> './data/train/Glaucoma/67.png'\n",
            "'drive/My Drive/Glaucoma2/data/train/Glaucoma/11.png' -> './data/train/Glaucoma/11.png'\n",
            "'drive/My Drive/Glaucoma2/data/train/Glaucoma/12.png' -> './data/train/Glaucoma/12.png'\n",
            "'drive/My Drive/Glaucoma2/data/train/Glaucoma/64.png' -> './data/train/Glaucoma/64.png'\n",
            "'drive/My Drive/Glaucoma2/data/train/Glaucoma/68.png' -> './data/train/Glaucoma/68.png'\n",
            "'drive/My Drive/Glaucoma2/data/train/Glaucoma/35.png' -> './data/train/Glaucoma/35.png'\n",
            "'drive/My Drive/Glaucoma2/data/train/Glaucoma/20.png' -> './data/train/Glaucoma/20.png'\n",
            "'drive/My Drive/Glaucoma2/data/train/Glaucoma/46.png' -> './data/train/Glaucoma/46.png'\n",
            "'drive/My Drive/Glaucoma2/data/train/Glaucoma/51.png' -> './data/train/Glaucoma/51.png'\n",
            "'drive/My Drive/Glaucoma2/data/train/Glaucoma/37.png' -> './data/train/Glaucoma/37.png'\n",
            "'drive/My Drive/Glaucoma2/data/train/Glaucoma/59.png' -> './data/train/Glaucoma/59.png'\n",
            "'drive/My Drive/Glaucoma2/data/train/Glaucoma/10.png' -> './data/train/Glaucoma/10.png'\n",
            "'drive/My Drive/Glaucoma2/data/train/Glaucoma/65.png' -> './data/train/Glaucoma/65.png'\n",
            "'drive/My Drive/Glaucoma2/data/train/Glaucoma/66.png' -> './data/train/Glaucoma/66.png'\n",
            "'drive/My Drive/Glaucoma2/data/train/Glaucoma/18.png' -> './data/train/Glaucoma/18.png'\n",
            "'drive/My Drive/Glaucoma2/data/train/Glaucoma/53.png' -> './data/train/Glaucoma/53.png'\n",
            "'drive/My Drive/Glaucoma2/data/train/Glaucoma/25.png' -> './data/train/Glaucoma/25.png'\n",
            "'drive/My Drive/Glaucoma2/data/train/Glaucoma/19.png' -> './data/train/Glaucoma/19.png'\n",
            "'drive/My Drive/Glaucoma2/data/train/Glaucoma/16.png' -> './data/train/Glaucoma/16.png'\n",
            "'drive/My Drive/Glaucoma2/data/train/Glaucoma/9.png' -> './data/train/Glaucoma/9.png'\n",
            "'drive/My Drive/Glaucoma2/data/train/Glaucoma/41.png' -> './data/train/Glaucoma/41.png'\n",
            "'drive/My Drive/Glaucoma2/data/train/Glaucoma/27.png' -> './data/train/Glaucoma/27.png'\n",
            "'drive/My Drive/Glaucoma2/data/train/Glaucoma/1.png' -> './data/train/Glaucoma/1.png'\n",
            "'drive/My Drive/Glaucoma2/data/train/Glaucoma/40.png' -> './data/train/Glaucoma/40.png'\n",
            "'drive/My Drive/Glaucoma2/data/train/Glaucoma/36.png' -> './data/train/Glaucoma/36.png'\n",
            "'drive/My Drive/Glaucoma2/data/train/Glaucoma/15.png' -> './data/train/Glaucoma/15.png'\n",
            "'drive/My Drive/Glaucoma2/data/train/Glaucoma/4.png' -> './data/train/Glaucoma/4.png'\n",
            "'drive/My Drive/Glaucoma2/data/train/Glaucoma/60.png' -> './data/train/Glaucoma/60.png'\n",
            "'drive/My Drive/Glaucoma2/data/train/Glaucoma/31.png' -> './data/train/Glaucoma/31.png'\n",
            "'drive/My Drive/Glaucoma2/data/train/Glaucoma/38.png' -> './data/train/Glaucoma/38.png'\n",
            "'drive/My Drive/Glaucoma2/data/train/Glaucoma/42.png' -> './data/train/Glaucoma/42.png'\n",
            "'drive/My Drive/Glaucoma2/data/train/Glaucoma/48.png' -> './data/train/Glaucoma/48.png'\n",
            "'drive/My Drive/Glaucoma2/data/train/Glaucoma/30.png' -> './data/train/Glaucoma/30.png'\n",
            "'drive/My Drive/Glaucoma2/data/train/Glaucoma/52.png' -> './data/train/Glaucoma/52.png'\n",
            "'drive/My Drive/Glaucoma2/data/train/Glaucoma/44.png' -> './data/train/Glaucoma/44.png'\n",
            "'drive/My Drive/Glaucoma2/data/train/Glaucoma/3.png' -> './data/train/Glaucoma/3.png'\n",
            "'drive/My Drive/Glaucoma2/data/train/Glaucoma/63.png' -> './data/train/Glaucoma/63.png'\n",
            "'drive/My Drive/Glaucoma2/data/train/Glaucoma/33.png' -> './data/train/Glaucoma/33.png'\n",
            "'drive/My Drive/Glaucoma2/data/train/Glaucoma/8.png' -> './data/train/Glaucoma/8.png'\n",
            "'drive/My Drive/Glaucoma2/data/train/Glaucoma/23.png' -> './data/train/Glaucoma/23.png'\n",
            "'drive/My Drive/Glaucoma2/data/train/Glaucoma/32.png' -> './data/train/Glaucoma/32.png'\n",
            "'drive/My Drive/Glaucoma2/data/train/Glaucoma/21.png' -> './data/train/Glaucoma/21.png'\n",
            "'drive/My Drive/Glaucoma2/data/train/Glaucoma/61.png' -> './data/train/Glaucoma/61.png'\n",
            "'drive/My Drive/Glaucoma2/data/train/Glaucoma/29.png' -> './data/train/Glaucoma/29.png'\n",
            "'drive/My Drive/Glaucoma2/data/train/Glaucoma/28.png' -> './data/train/Glaucoma/28.png'\n",
            "'drive/My Drive/Glaucoma2/data/train/Glaucoma/55.png' -> './data/train/Glaucoma/55.png'\n",
            "'drive/My Drive/Glaucoma2/data/train/Glaucoma/7.png' -> './data/train/Glaucoma/7.png'\n",
            "'drive/My Drive/Glaucoma2/data/train/Glaucoma/6.png' -> './data/train/Glaucoma/6.png'\n",
            "'drive/My Drive/Glaucoma2/data/train/Glaucoma/43.png' -> './data/train/Glaucoma/43.png'\n",
            "'drive/My Drive/Glaucoma2/data/train/Glaucoma/50.png' -> './data/train/Glaucoma/50.png'\n",
            "'drive/My Drive/Glaucoma2/data/train/Glaucoma/45.png' -> './data/train/Glaucoma/45.png'\n",
            "'drive/My Drive/Glaucoma2/data/train/Glaucoma/39.png' -> './data/train/Glaucoma/39.png'\n",
            "'drive/My Drive/Glaucoma2/data/train/Glaucoma/34.png' -> './data/train/Glaucoma/34.png'\n",
            "'drive/My Drive/Glaucoma2/data/train/Glaucoma/24.png' -> './data/train/Glaucoma/24.png'\n",
            "'drive/My Drive/Glaucoma2/data/train/Glaucoma/58.png' -> './data/train/Glaucoma/58.png'\n",
            "'drive/My Drive/Glaucoma2/data/train/Glaucoma/62.png' -> './data/train/Glaucoma/62.png'\n",
            "'drive/My Drive/Glaucoma2/data/train/Glaucoma/2.png' -> './data/train/Glaucoma/2.png'\n",
            "'drive/My Drive/Glaucoma2/data/train/Glaucoma/17.png' -> './data/train/Glaucoma/17.png'\n",
            "'drive/My Drive/Glaucoma2/data/train/Glaucoma/13.png' -> './data/train/Glaucoma/13.png'\n",
            "'drive/My Drive/Glaucoma2/data/train/Glaucoma/47.png' -> './data/train/Glaucoma/47.png'\n",
            "'drive/My Drive/Glaucoma2/data/train/Glaucoma/5.png' -> './data/train/Glaucoma/5.png'\n",
            "'drive/My Drive/Glaucoma2/data/train/Glaucoma/56.png' -> './data/train/Glaucoma/56.png'\n",
            "'drive/My Drive/Glaucoma2/data/train/Glaucoma/54.png' -> './data/train/Glaucoma/54.png'\n",
            "'drive/My Drive/Glaucoma2/data/train/Glaucoma/14.png' -> './data/train/Glaucoma/14.png'\n",
            "'drive/My Drive/Glaucoma2/data/train/Glaucoma/49.png' -> './data/train/Glaucoma/49.png'\n",
            "'drive/My Drive/Glaucoma2/data/train/Glaucoma/57.png' -> './data/train/Glaucoma/57.png'\n",
            "'drive/My Drive/Glaucoma2/data/train/Glaucoma/26.png' -> './data/train/Glaucoma/26.png'\n",
            "'drive/My Drive/Glaucoma2/data/train/Normal' -> './data/train/Normal'\n",
            "'drive/My Drive/Glaucoma2/data/train/Normal/11.png' -> './data/train/Normal/11.png'\n",
            "'drive/My Drive/Glaucoma2/data/train/Normal/22.png' -> './data/train/Normal/22.png'\n",
            "'drive/My Drive/Glaucoma2/data/train/Normal/64.png' -> './data/train/Normal/64.png'\n",
            "'drive/My Drive/Glaucoma2/data/train/Normal/46.png' -> './data/train/Normal/46.png'\n",
            "'drive/My Drive/Glaucoma2/data/train/Normal/68.png' -> './data/train/Normal/68.png'\n",
            "'drive/My Drive/Glaucoma2/data/train/Normal/67.png' -> './data/train/Normal/67.png'\n",
            "'drive/My Drive/Glaucoma2/data/train/Normal/35.png' -> './data/train/Normal/35.png'\n",
            "'drive/My Drive/Glaucoma2/data/train/Normal/12.png' -> './data/train/Normal/12.png'\n",
            "'drive/My Drive/Glaucoma2/data/train/Normal/20.png' -> './data/train/Normal/20.png'\n",
            "'drive/My Drive/Glaucoma2/data/train/Normal/51.png' -> './data/train/Normal/51.png'\n",
            "'drive/My Drive/Glaucoma2/data/train/Normal/37.png' -> './data/train/Normal/37.png'\n",
            "'drive/My Drive/Glaucoma2/data/train/Normal/53.png' -> './data/train/Normal/53.png'\n",
            "'drive/My Drive/Glaucoma2/data/train/Normal/16.png' -> './data/train/Normal/16.png'\n",
            "'drive/My Drive/Glaucoma2/data/train/Normal/25.png' -> './data/train/Normal/25.png'\n",
            "'drive/My Drive/Glaucoma2/data/train/Normal/10.png' -> './data/train/Normal/10.png'\n",
            "'drive/My Drive/Glaucoma2/data/train/Normal/19.png' -> './data/train/Normal/19.png'\n",
            "'drive/My Drive/Glaucoma2/data/train/Normal/66.png' -> './data/train/Normal/66.png'\n",
            "'drive/My Drive/Glaucoma2/data/train/Normal/65.png' -> './data/train/Normal/65.png'\n",
            "'drive/My Drive/Glaucoma2/data/train/Normal/18.png' -> './data/train/Normal/18.png'\n",
            "'drive/My Drive/Glaucoma2/data/train/Normal/9.png' -> './data/train/Normal/9.png'\n",
            "'drive/My Drive/Glaucoma2/data/train/Normal/59.png' -> './data/train/Normal/59.png'\n",
            "'drive/My Drive/Glaucoma2/data/train/Normal/41.png' -> './data/train/Normal/41.png'\n",
            "'drive/My Drive/Glaucoma2/data/train/Normal/27.png' -> './data/train/Normal/27.png'\n",
            "'drive/My Drive/Glaucoma2/data/train/Normal/1.png' -> './data/train/Normal/1.png'\n",
            "'drive/My Drive/Glaucoma2/data/train/Normal/4.png' -> './data/train/Normal/4.png'\n",
            "'drive/My Drive/Glaucoma2/data/train/Normal/42.png' -> './data/train/Normal/42.png'\n",
            "'drive/My Drive/Glaucoma2/data/train/Normal/31.png' -> './data/train/Normal/31.png'\n",
            "'drive/My Drive/Glaucoma2/data/train/Normal/36.png' -> './data/train/Normal/36.png'\n",
            "'drive/My Drive/Glaucoma2/data/train/Normal/60.png' -> './data/train/Normal/60.png'\n",
            "'drive/My Drive/Glaucoma2/data/train/Normal/15.png' -> './data/train/Normal/15.png'\n",
            "'drive/My Drive/Glaucoma2/data/train/Normal/40.png' -> './data/train/Normal/40.png'\n",
            "'drive/My Drive/Glaucoma2/data/train/Normal/38.png' -> './data/train/Normal/38.png'\n",
            "'drive/My Drive/Glaucoma2/data/train/Normal/48.png' -> './data/train/Normal/48.png'\n",
            "'drive/My Drive/Glaucoma2/data/train/Normal/30.png' -> './data/train/Normal/30.png'\n",
            "'drive/My Drive/Glaucoma2/data/train/Normal/52.png' -> './data/train/Normal/52.png'\n",
            "'drive/My Drive/Glaucoma2/data/train/Normal/63.png' -> './data/train/Normal/63.png'\n",
            "'drive/My Drive/Glaucoma2/data/train/Normal/33.png' -> './data/train/Normal/33.png'\n",
            "'drive/My Drive/Glaucoma2/data/train/Normal/21.png' -> './data/train/Normal/21.png'\n",
            "'drive/My Drive/Glaucoma2/data/train/Normal/8.png' -> './data/train/Normal/8.png'\n",
            "'drive/My Drive/Glaucoma2/data/train/Normal/3.png' -> './data/train/Normal/3.png'\n",
            "'drive/My Drive/Glaucoma2/data/train/Normal/44.png' -> './data/train/Normal/44.png'\n",
            "'drive/My Drive/Glaucoma2/data/train/Normal/23.png' -> './data/train/Normal/23.png'\n",
            "'drive/My Drive/Glaucoma2/data/train/Normal/32.png' -> './data/train/Normal/32.png'\n",
            "'drive/My Drive/Glaucoma2/data/train/Normal/61.png' -> './data/train/Normal/61.png'\n",
            "'drive/My Drive/Glaucoma2/data/train/Normal/28.png' -> './data/train/Normal/28.png'\n",
            "'drive/My Drive/Glaucoma2/data/train/Normal/45.png' -> './data/train/Normal/45.png'\n",
            "'drive/My Drive/Glaucoma2/data/train/Normal/39.png' -> './data/train/Normal/39.png'\n",
            "'drive/My Drive/Glaucoma2/data/train/Normal/43.png' -> './data/train/Normal/43.png'\n",
            "'drive/My Drive/Glaucoma2/data/train/Normal/50.png' -> './data/train/Normal/50.png'\n",
            "'drive/My Drive/Glaucoma2/data/train/Normal/29.png' -> './data/train/Normal/29.png'\n",
            "'drive/My Drive/Glaucoma2/data/train/Normal/24.png' -> './data/train/Normal/24.png'\n",
            "'drive/My Drive/Glaucoma2/data/train/Normal/6.png' -> './data/train/Normal/6.png'\n",
            "'drive/My Drive/Glaucoma2/data/train/Normal/34.png' -> './data/train/Normal/34.png'\n",
            "'drive/My Drive/Glaucoma2/data/train/Normal/55.png' -> './data/train/Normal/55.png'\n",
            "'drive/My Drive/Glaucoma2/data/train/Normal/7.png' -> './data/train/Normal/7.png'\n",
            "'drive/My Drive/Glaucoma2/data/train/Normal/58.png' -> './data/train/Normal/58.png'\n",
            "'drive/My Drive/Glaucoma2/data/train/Normal/62.png' -> './data/train/Normal/62.png'\n",
            "'drive/My Drive/Glaucoma2/data/train/Normal/2.png' -> './data/train/Normal/2.png'\n",
            "'drive/My Drive/Glaucoma2/data/train/Normal/5.png' -> './data/train/Normal/5.png'\n",
            "'drive/My Drive/Glaucoma2/data/train/Normal/56.png' -> './data/train/Normal/56.png'\n",
            "'drive/My Drive/Glaucoma2/data/train/Normal/54.png' -> './data/train/Normal/54.png'\n",
            "'drive/My Drive/Glaucoma2/data/train/Normal/17.png' -> './data/train/Normal/17.png'\n",
            "'drive/My Drive/Glaucoma2/data/train/Normal/14.png' -> './data/train/Normal/14.png'\n",
            "'drive/My Drive/Glaucoma2/data/train/Normal/49.png' -> './data/train/Normal/49.png'\n",
            "'drive/My Drive/Glaucoma2/data/train/Normal/47.png' -> './data/train/Normal/47.png'\n",
            "'drive/My Drive/Glaucoma2/data/train/Normal/57.png' -> './data/train/Normal/57.png'\n",
            "'drive/My Drive/Glaucoma2/data/train/Normal/13.png' -> './data/train/Normal/13.png'\n",
            "'drive/My Drive/Glaucoma2/data/train/Normal/26.png' -> './data/train/Normal/26.png'\n",
            "'drive/My Drive/Glaucoma2/data/Cancer_CSV.csv' -> './data/Cancer_CSV.csv'\n",
            "'drive/My Drive/Glaucoma2/data/test' -> './data/test'\n",
            "'drive/My Drive/Glaucoma2/data/test/Normal' -> './data/test/Normal'\n",
            "'drive/My Drive/Glaucoma2/data/test/Normal/10.png' -> './data/test/Normal/10.png'\n",
            "'drive/My Drive/Glaucoma2/data/test/Normal/15.png' -> './data/test/Normal/15.png'\n",
            "'drive/My Drive/Glaucoma2/data/test/Normal/20.png' -> './data/test/Normal/20.png'\n",
            "'drive/My Drive/Glaucoma2/data/test/Normal/18.png' -> './data/test/Normal/18.png'\n",
            "'drive/My Drive/Glaucoma2/data/test/Normal/4.png' -> './data/test/Normal/4.png'\n",
            "'drive/My Drive/Glaucoma2/data/test/Normal/19.png' -> './data/test/Normal/19.png'\n",
            "'drive/My Drive/Glaucoma2/data/test/Normal/16.png' -> './data/test/Normal/16.png'\n",
            "'drive/My Drive/Glaucoma2/data/test/Normal/11.png' -> './data/test/Normal/11.png'\n",
            "'drive/My Drive/Glaucoma2/data/test/Normal/12.png' -> './data/test/Normal/12.png'\n",
            "'drive/My Drive/Glaucoma2/data/test/Normal/22.png' -> './data/test/Normal/22.png'\n",
            "'drive/My Drive/Glaucoma2/data/test/Normal/9.png' -> './data/test/Normal/9.png'\n",
            "'drive/My Drive/Glaucoma2/data/test/Normal/1.png' -> './data/test/Normal/1.png'\n",
            "'drive/My Drive/Glaucoma2/data/test/Normal/23.png' -> './data/test/Normal/23.png'\n",
            "'drive/My Drive/Glaucoma2/data/test/Normal/13.png' -> './data/test/Normal/13.png'\n",
            "'drive/My Drive/Glaucoma2/data/test/Normal/17.png' -> './data/test/Normal/17.png'\n",
            "'drive/My Drive/Glaucoma2/data/test/Normal/14.png' -> './data/test/Normal/14.png'\n",
            "'drive/My Drive/Glaucoma2/data/test/Normal/3.png' -> './data/test/Normal/3.png'\n",
            "'drive/My Drive/Glaucoma2/data/test/Normal/7.png' -> './data/test/Normal/7.png'\n",
            "'drive/My Drive/Glaucoma2/data/test/Normal/5.png' -> './data/test/Normal/5.png'\n",
            "'drive/My Drive/Glaucoma2/data/test/Normal/21.png' -> './data/test/Normal/21.png'\n",
            "'drive/My Drive/Glaucoma2/data/test/Normal/8.png' -> './data/test/Normal/8.png'\n",
            "'drive/My Drive/Glaucoma2/data/test/Normal/6.png' -> './data/test/Normal/6.png'\n",
            "'drive/My Drive/Glaucoma2/data/test/Normal/2.png' -> './data/test/Normal/2.png'\n",
            "'drive/My Drive/Glaucoma2/data/test/Glaucoma' -> './data/test/Glaucoma'\n",
            "'drive/My Drive/Glaucoma2/data/test/Glaucoma/12.png' -> './data/test/Glaucoma/12.png'\n",
            "'drive/My Drive/Glaucoma2/data/test/Glaucoma/16.png' -> './data/test/Glaucoma/16.png'\n",
            "'drive/My Drive/Glaucoma2/data/test/Glaucoma/10.png' -> './data/test/Glaucoma/10.png'\n",
            "'drive/My Drive/Glaucoma2/data/test/Glaucoma/19.png' -> './data/test/Glaucoma/19.png'\n",
            "'drive/My Drive/Glaucoma2/data/test/Glaucoma/18.png' -> './data/test/Glaucoma/18.png'\n",
            "'drive/My Drive/Glaucoma2/data/test/Glaucoma/20.png' -> './data/test/Glaucoma/20.png'\n",
            "'drive/My Drive/Glaucoma2/data/test/Glaucoma/22.png' -> './data/test/Glaucoma/22.png'\n",
            "'drive/My Drive/Glaucoma2/data/test/Glaucoma/9.png' -> './data/test/Glaucoma/9.png'\n",
            "'drive/My Drive/Glaucoma2/data/test/Glaucoma/11.png' -> './data/test/Glaucoma/11.png'\n",
            "'drive/My Drive/Glaucoma2/data/test/Glaucoma/15.png' -> './data/test/Glaucoma/15.png'\n",
            "'drive/My Drive/Glaucoma2/data/test/Glaucoma/4.png' -> './data/test/Glaucoma/4.png'\n",
            "'drive/My Drive/Glaucoma2/data/test/Glaucoma/1.png' -> './data/test/Glaucoma/1.png'\n",
            "'drive/My Drive/Glaucoma2/data/test/Glaucoma/17.png' -> './data/test/Glaucoma/17.png'\n",
            "'drive/My Drive/Glaucoma2/data/test/Glaucoma/3.png' -> './data/test/Glaucoma/3.png'\n",
            "'drive/My Drive/Glaucoma2/data/test/Glaucoma/21.png' -> './data/test/Glaucoma/21.png'\n",
            "'drive/My Drive/Glaucoma2/data/test/Glaucoma/7.png' -> './data/test/Glaucoma/7.png'\n",
            "'drive/My Drive/Glaucoma2/data/test/Glaucoma/14.png' -> './data/test/Glaucoma/14.png'\n",
            "'drive/My Drive/Glaucoma2/data/test/Glaucoma/23.png' -> './data/test/Glaucoma/23.png'\n",
            "'drive/My Drive/Glaucoma2/data/test/Glaucoma/8.png' -> './data/test/Glaucoma/8.png'\n",
            "'drive/My Drive/Glaucoma2/data/test/Glaucoma/6.png' -> './data/test/Glaucoma/6.png'\n",
            "'drive/My Drive/Glaucoma2/data/test/Glaucoma/5.png' -> './data/test/Glaucoma/5.png'\n",
            "'drive/My Drive/Glaucoma2/data/test/Glaucoma/13.png' -> './data/test/Glaucoma/13.png'\n",
            "'drive/My Drive/Glaucoma2/data/test/Glaucoma/2.png' -> './data/test/Glaucoma/2.png'\n"
          ],
          "name": "stdout"
        }
      ]
    },
    {
      "cell_type": "code",
      "metadata": {
        "id": "TQKaVqnsonDC",
        "colab_type": "code",
        "colab": {}
      },
      "source": [
        "!rm data/Cancer_CSV.csv\n",
        "dir_contents = os.listdir('data')"
      ],
      "execution_count": 0,
      "outputs": []
    },
    {
      "cell_type": "code",
      "metadata": {
        "id": "d-QmO7CTqfNA",
        "colab_type": "code",
        "colab": {}
      },
      "source": [
        "# Get data directories\n",
        "augmentationDirectories = []\n",
        "for directory in dir_contents:\n",
        "  for srcData in os.listdir(src_dir + '/data/' + directory):\n",
        "    augmentationDirectories.append(src_dir + '/data/' + directory + '/' + srcData)"
      ],
      "execution_count": 0,
      "outputs": []
    },
    {
      "cell_type": "code",
      "metadata": {
        "id": "PQYgO1Rkr6o2",
        "colab_type": "code",
        "colab": {}
      },
      "source": [
        "f.write('\\n\\nAugmentation directories: \\n')\n",
        "for diretory in augmentationDirectories:\n",
        "  f.write('\\t - ' + directory + '\\n')"
      ],
      "execution_count": 0,
      "outputs": []
    },
    {
      "cell_type": "code",
      "metadata": {
        "id": "IPGE1fr4sRAW",
        "colab_type": "code",
        "colab": {}
      },
      "source": [
        "# Create separate 'Augmented' directory within Data directories to store generated augmented images\n",
        "f.write('\\nCreate Separate directories to store augmented images:\\n')\n",
        "for directory in augmentationDirectories:\n",
        "  os.mkdir(directory + '/' + 'Augmented')\n",
        "  f.write('\\t - Created ' + directory + '/Augmented/\\n')"
      ],
      "execution_count": 0,
      "outputs": []
    },
    {
      "cell_type": "code",
      "metadata": {
        "id": "XADGThd7onDF",
        "colab_type": "code",
        "colab": {}
      },
      "source": [
        "f.write('\\n\\nAugmenting images: \\n')\n",
        "for directory in augmentationDirectories:\n",
        "  f.write('\\t - AUgmenting in ' + directory + '\\n')\n",
        "  os.chdir(directory)\n",
        "  for image in os.listdir('.'):\n",
        "    if 'Augmented' in image:\n",
        "        continue\n",
        "    image = np.expand_dims(imread(os.path.abspath(image)),0)\n",
        "    aug_iter = gen.flow(image,save_to_dir='Augmented/') # Save to Augmented directory\n",
        "    aug_images = [next(aug_iter)[0].astype(np.uint8) for i in range(3)] # Augment 1:3 image ratio"
      ],
      "execution_count": 0,
      "outputs": []
    },
    {
      "cell_type": "code",
      "metadata": {
        "id": "sF082IW3onDJ",
        "colab_type": "code",
        "colab": {}
      },
      "source": [
        "# Remove original images\n",
        "f.write('\\n\\nRemove source images: \\n')\n",
        "for directory in augmentationDirectories:\n",
        "  f.write('\\t - Removing in ' + directory + '\\n')\n",
        "  os.chdir(directory)\n",
        "  for image in os.listdir('.'):\n",
        "    if 'Augmented' in image:\n",
        "      continue # preserve the new images\n",
        "    else:\n",
        "      os.remove(image) # Remove everything else"
      ],
      "execution_count": 0,
      "outputs": []
    },
    {
      "cell_type": "code",
      "metadata": {
        "id": "Dz6PxKpeVmRK",
        "colab_type": "code",
        "colab": {}
      },
      "source": [
        "# Move Augmented images back to their source directories\n",
        "f.write('\\n\\nMove Augmented images back to their correct directories: \\n')\n",
        "for directory in augmentationDirectories:\n",
        "  for image in os.listdir(directory + '/Augmented'):\n",
        "    shutil.move(directory + '/Augmented/' + image, directory + '/' + image)\n",
        "    f.write('\\t ' + directory + '/Augmented/' + image + ' -> ' + directory + '/' + image + '\\n')"
      ],
      "execution_count": 0,
      "outputs": []
    },
    {
      "cell_type": "code",
      "metadata": {
        "id": "quMUQXHlWsH-",
        "colab_type": "code",
        "colab": {}
      },
      "source": [
        "# Remove Empty Augmented Directories\n",
        "f.write('\\n\\nRemove Empty Augmented Directories: \\n')\n",
        "for directory in augmentationDirectories:\n",
        "  os.rmdir(directory + '/Augmented/')\n",
        "  f.write('\\t - Removed Directory: ' + directory + '/Augmented/\\n')"
      ],
      "execution_count": 0,
      "outputs": []
    },
    {
      "cell_type": "code",
      "metadata": {
        "id": "yDi7iqzhXPli",
        "colab_type": "code",
        "colab": {}
      },
      "source": [
        "# Close File Pointer\n",
        "f.close()"
      ],
      "execution_count": 0,
      "outputs": []
    },
    {
      "cell_type": "code",
      "metadata": {
        "id": "ZpwSMyxVDax5",
        "colab_type": "code",
        "colab": {}
      },
      "source": [
        "# Unallocate memory\n",
        "del(augmentationDirectories, gen, f, src_dir, dir_contents)"
      ],
      "execution_count": 0,
      "outputs": []
    },
    {
      "cell_type": "code",
      "metadata": {
        "id": "e041HU5nFDBY",
        "colab_type": "code",
        "colab": {}
      },
      "source": [
        ""
      ],
      "execution_count": 0,
      "outputs": []
    }
  ]
}